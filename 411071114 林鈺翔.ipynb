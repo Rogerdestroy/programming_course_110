{
  "cells": [
    {
      "cell_type": "markdown",
      "id": "705c44c5-d59f-4b94-a099-2dda0cd1c385",
      "metadata": {
        "id": "705c44c5-d59f-4b94-a099-2dda0cd1c385"
      },
      "source": [
        "## *a01\n",
        "\n",
        "以下有個名為`str_list`的`list`，請將`str_list`內的元素用 python 儲存到文字檔`text.txt`內，每個元素佔一行。\n",
        "\n",
        "```python\n",
        "str_list = ['The', 'quick', 'brown', 'fox', 'jumps', 'over', 'the', 'lazy', 'dog']\n",
        "```\n",
        "\n",
        "`text.txt` 的內容應該會長這樣 :\n",
        "\n",
        "> ```\n",
        "> The\n",
        "> quick\n",
        "> brown\n",
        "> fox\n",
        "> jumps\n",
        "> over\n",
        "> the\n",
        "> lazy\n",
        "> dog\n",
        "> ```"
      ]
    },
    {
      "cell_type": "code",
      "execution_count": null,
      "id": "19220789-78c0-445c-9fd3-253383ad36ca",
      "metadata": {
        "tags": [
          "solution"
        ],
        "id": "19220789-78c0-445c-9fd3-253383ad36ca",
        "colab": {
          "base_uri": "https://localhost:8080/"
        },
        "outputId": "bdeddbaf-47a4-4b5c-bb3a-28f0bbb3cd53"
      },
      "outputs": [
        {
          "output_type": "stream",
          "name": "stdout",
          "text": [
            "The\n",
            "quick\n",
            "brown\n",
            "fox\n",
            "jumps\n",
            "over\n",
            "the\n",
            "lazy\n",
            "dog\n",
            "\n"
          ]
        }
      ],
      "source": [
        "str_list = ['The', 'quick', 'brown', 'fox', 'jumps', 'over', 'the', 'lazy', 'dog']\n",
        "\n",
        "# write your code from here\n",
        "file = open(\"text.txt\", mode=\"w\")\n",
        "for i in str_list:\n",
        "  file.write(i)\n",
        "  file.write('\\n')\n",
        "file = open(\"text.txt\", mode=\"r\")\n",
        "print(file.read())\n",
        "file.close()"
      ]
    },
    {
      "cell_type": "markdown",
      "id": "d339b45e-3e63-4d3b-a7e7-e060bd65acc9",
      "metadata": {
        "id": "d339b45e-3e63-4d3b-a7e7-e060bd65acc9"
      },
      "source": [
        "* 題目重點\n",
        "\n",
        "1. 檔案寫入\n",
        "2. 迴圈"
      ]
    },
    {
      "cell_type": "markdown",
      "id": "90a9ef60-4b78-4b8b-8733-c99f85026fb3",
      "metadata": {
        "id": "90a9ef60-4b78-4b8b-8733-c99f85026fb3"
      },
      "source": [
        "## *b01\n",
        "\n",
        "使用者輸入兩個數字`a` `b`，輸出從`a x a` 到 `b x b` 的九九乘法表\n",
        "\n",
        "* **輸入說明**\n",
        "\n",
        "> 輸入共有兩行，每一行有一個整數，分別為`a`與`b`的值(`a` 恆小於 `b`)\n",
        "\n",
        "* **輸出說明**\n",
        "\n",
        "> 輸出以下的九九乘法表\n",
        "\n",
        "> ```\n",
        "> a   x a = ***    a   x a+1 = ***    ...    a   x b = ***\n",
        "> a+1 x a = ***    a+1 x a+1 = ***    ...    a+1 x b = ***\n",
        "> a+2 x a = ***    a+2 x a+1 = ***    ...    a+2 x b = ***\n",
        "> ...\n",
        "> b   x a = ***    b   x a+1 = ***    ...    b   x b = ***\n",
        "> ```\n",
        "\n",
        "* **example 1**\n",
        "\n",
        "    * Input\n",
        "    \n",
        "    > `3`  \n",
        "    > `5`\n",
        "    \n",
        "    * Output\n",
        "    \n",
        "    > ```\n",
        "    > 3 x 3 =  9\t3 x 4 = 12\t3 x 5 = 15\n",
        "    > 4 x 3 = 12\t4 x 4 = 16\t4 x 5 = 20\n",
        "    > 5 x 3 = 15\t5 x 4 = 20\t5 x 5 = 25\n",
        "    > ```\n",
        "    \n",
        "* **example 2**\n",
        "\n",
        "    * Input\n",
        "    \n",
        "    > `6`  \n",
        "    > `9`\n",
        "    \n",
        "    * Output\n",
        "\n",
        "    > ```\n",
        "    > 6 x 6 = 36\t6 x 7 = 42\t6 x 8 = 48\t6 x 9 = 54\n",
        "    > 7 x 6 = 42\t7 x 7 = 49\t7 x 8 = 56\t7 x 9 = 63\n",
        "    > 8 x 6 = 48\t8 x 7 = 56\t8 x 8 = 64\t8 x 9 = 72\n",
        "    > 9 x 6 = 54\t9 x 7 = 63\t9 x 8 = 72\t9 x 9 = 81\n",
        "    > ```"
      ]
    },
    {
      "cell_type": "code",
      "source": [
        "a = int(input('第一個數：'))\n",
        "b = int(input('第二個數：'))\n",
        "for i in range(a,b+1):\n",
        "  for j in range(a,b+1):\n",
        "    if j<b :\n",
        "      print(str(i)+' x '+str(j)+' = ', i*j, '\\t', end='')\n",
        "    elif j==b:\n",
        "      print(str(i)+' x '+str(j)+' = ', i*j, '\\t', end='\\n')"
      ],
      "metadata": {
        "colab": {
          "base_uri": "https://localhost:8080/"
        },
        "id": "caDcBJCAU2_o",
        "outputId": "e59c475c-8a5c-4113-c7b4-89df92967f22"
      },
      "id": "caDcBJCAU2_o",
      "execution_count": null,
      "outputs": [
        {
          "output_type": "stream",
          "name": "stdout",
          "text": [
            "第一個數：5\n",
            "第二個數：9\n",
            "5 x 5 =  25 \t5 x 6 =  30 \t5 x 7 =  35 \t5 x 8 =  40 \t5 x 9 =  45 \t\n",
            "6 x 5 =  30 \t6 x 6 =  36 \t6 x 7 =  42 \t6 x 8 =  48 \t6 x 9 =  54 \t\n",
            "7 x 5 =  35 \t7 x 6 =  42 \t7 x 7 =  49 \t7 x 8 =  56 \t7 x 9 =  63 \t\n",
            "8 x 5 =  40 \t8 x 6 =  48 \t8 x 7 =  56 \t8 x 8 =  64 \t8 x 9 =  72 \t\n",
            "9 x 5 =  45 \t9 x 6 =  54 \t9 x 7 =  63 \t9 x 8 =  72 \t9 x 9 =  81 \t\n"
          ]
        }
      ]
    },
    {
      "cell_type": "markdown",
      "id": "b02afaf5-dc81-4a0d-9df9-777b4e57f482",
      "metadata": {
        "id": "b02afaf5-dc81-4a0d-9df9-777b4e57f482"
      },
      "source": [
        "## *b02\n",
        "\n",
        "使用迴圈印出以下的菱形。菱形的兩條對角線皆為15個單位(行/字元)\n",
        "\n",
        "*程式中總共不得含有超過10個以上的 `*` 字元。*\n",
        "\n",
        "> ```bash\n",
        ">        *\n",
        ">       ***\n",
        ">      *****\n",
        ">     *******\n",
        ">    *********\n",
        ">   ***********\n",
        ">  *************\n",
        "> ***************\n",
        ">  *************\n",
        ">   ***********\n",
        ">    *********\n",
        ">     *******\n",
        ">      *****\n",
        ">       ***\n",
        ">        *\n",
        "> ```"
      ]
    },
    {
      "cell_type": "code",
      "execution_count": null,
      "id": "5a8c8313-b0d1-4376-858b-0b883ae68ba9",
      "metadata": {
        "tags": [
          "solution"
        ],
        "id": "5a8c8313-b0d1-4376-858b-0b883ae68ba9",
        "colab": {
          "base_uri": "https://localhost:8080/"
        },
        "outputId": "cb9f3876-4093-40dd-88c6-28f99e6de82e"
      },
      "outputs": [
        {
          "output_type": "stream",
          "name": "stdout",
          "text": [
            "              *\n",
            "\n",
            "            ***\n",
            "\n",
            "          *****\n",
            "\n",
            "        *******\n",
            "\n",
            "      *********\n",
            "\n",
            "    ***********\n",
            "\n",
            "  *************\n",
            "\n",
            "***************\n",
            "\n",
            "  *************\n",
            "\n",
            "    ***********\n",
            "\n",
            "      *********\n",
            "\n",
            "        *******\n",
            "\n",
            "          *****\n",
            "\n",
            "            ***\n",
            "\n",
            "              *\n",
            "\n"
          ]
        }
      ],
      "source": [
        "# write your code here\n",
        "n = 15\n",
        "for i in range(1,n+1,2):\n",
        "  for j in range(1,n-i+1):\n",
        "    print(' ',end='')\n",
        "  for j in range(n-i+1,n+1):\n",
        "    print('*',end='')\n",
        "  print('\\n')\n",
        "for i in range(n-2,0,-2):\n",
        "  for j in range(1,n-i+1):\n",
        "    print(' ',end='')\n",
        "  for j in range(n-i+1,n+1):\n",
        "    print('*',end='')\n",
        "  print('\\n')\n"
      ]
    },
    {
      "cell_type": "markdown",
      "id": "e39a5692-2abb-4787-a8da-6658cf6f6349",
      "metadata": {
        "id": "e39a5692-2abb-4787-a8da-6658cf6f6349"
      },
      "source": [
        "* 題目重點\n",
        "\n",
        "1. 迴圈"
      ]
    },
    {
      "cell_type": "markdown",
      "source": [
        "\n",
        "## *c01\n",
        "寫一個程式，把使用者輸入的十二個1-100的整數值放入串列中，並且 `依小到大順序` 列印出來，四個印成一列。\n",
        "\n",
        "* **輸入說明**\n",
        "\n",
        "請使用者輸入12個 1-100的整數值，請使用者 12個數字間用 `,` 區隔\n",
        "\n",
        "* **輸入說明**\n",
        "\n",
        "列印出這12個整數值，四個印成一列\n",
        "\n",
        "* **example**\n",
        "\n",
        "    * Input\n",
        "    \n",
        "    > `3,45,67,2,23,33,78,99,24,22,11,1`  \n",
        "    \n",
        "    * Output\n",
        "    \n",
        "    > ```\n",
        "    >  1, 2, 3,11\n",
        "    > 22,23,24,33\n",
        "    > 45,67,78,99\n",
        "    > ```"
      ],
      "metadata": {
        "id": "N7NnXtfN6XeF"
      },
      "id": "N7NnXtfN6XeF"
    },
    {
      "cell_type": "code",
      "source": [
        "# write your code here\n",
        "in_list = input().split(',')\n",
        "int_list = list(map(int, in_list))\n",
        "int_list.sort()\n",
        "for i in range(len(int_list)):\n",
        "  if (i+1)%4 == 0:\n",
        "    print(int_list[i],end='\\n')\n",
        "  else:\n",
        "    print(int_list[i],end=',')"
      ],
      "metadata": {
        "id": "SG9JO0bn6y55",
        "colab": {
          "base_uri": "https://localhost:8080/",
          "height": 538
        },
        "outputId": "ead31fa9-a38a-4d4f-a486-593f94cb6215"
      },
      "execution_count": null,
      "outputs": [
        {
          "output_type": "error",
          "ename": "KeyboardInterrupt",
          "evalue": "ignored",
          "traceback": [
            "\u001b[0;31m---------------------------------------------------------------------------\u001b[0m",
            "\u001b[0;31mKeyboardInterrupt\u001b[0m                         Traceback (most recent call last)",
            "\u001b[0;32m/usr/local/lib/python3.7/dist-packages/ipykernel/kernelbase.py\u001b[0m in \u001b[0;36m_input_request\u001b[0;34m(self, prompt, ident, parent, password)\u001b[0m\n\u001b[1;32m    728\u001b[0m             \u001b[0;32mtry\u001b[0m\u001b[0;34m:\u001b[0m\u001b[0;34m\u001b[0m\u001b[0;34m\u001b[0m\u001b[0m\n\u001b[0;32m--> 729\u001b[0;31m                 \u001b[0mident\u001b[0m\u001b[0;34m,\u001b[0m \u001b[0mreply\u001b[0m \u001b[0;34m=\u001b[0m \u001b[0mself\u001b[0m\u001b[0;34m.\u001b[0m\u001b[0msession\u001b[0m\u001b[0;34m.\u001b[0m\u001b[0mrecv\u001b[0m\u001b[0;34m(\u001b[0m\u001b[0mself\u001b[0m\u001b[0;34m.\u001b[0m\u001b[0mstdin_socket\u001b[0m\u001b[0;34m,\u001b[0m \u001b[0;36m0\u001b[0m\u001b[0;34m)\u001b[0m\u001b[0;34m\u001b[0m\u001b[0;34m\u001b[0m\u001b[0m\n\u001b[0m\u001b[1;32m    730\u001b[0m             \u001b[0;32mexcept\u001b[0m \u001b[0mException\u001b[0m\u001b[0;34m:\u001b[0m\u001b[0;34m\u001b[0m\u001b[0;34m\u001b[0m\u001b[0m\n",
            "\u001b[0;32m/usr/local/lib/python3.7/dist-packages/jupyter_client/session.py\u001b[0m in \u001b[0;36mrecv\u001b[0;34m(self, socket, mode, content, copy)\u001b[0m\n\u001b[1;32m    802\u001b[0m         \u001b[0;32mtry\u001b[0m\u001b[0;34m:\u001b[0m\u001b[0;34m\u001b[0m\u001b[0;34m\u001b[0m\u001b[0m\n\u001b[0;32m--> 803\u001b[0;31m             \u001b[0mmsg_list\u001b[0m \u001b[0;34m=\u001b[0m \u001b[0msocket\u001b[0m\u001b[0;34m.\u001b[0m\u001b[0mrecv_multipart\u001b[0m\u001b[0;34m(\u001b[0m\u001b[0mmode\u001b[0m\u001b[0;34m,\u001b[0m \u001b[0mcopy\u001b[0m\u001b[0;34m=\u001b[0m\u001b[0mcopy\u001b[0m\u001b[0;34m)\u001b[0m\u001b[0;34m\u001b[0m\u001b[0;34m\u001b[0m\u001b[0m\n\u001b[0m\u001b[1;32m    804\u001b[0m         \u001b[0;32mexcept\u001b[0m \u001b[0mzmq\u001b[0m\u001b[0;34m.\u001b[0m\u001b[0mZMQError\u001b[0m \u001b[0;32mas\u001b[0m \u001b[0me\u001b[0m\u001b[0;34m:\u001b[0m\u001b[0;34m\u001b[0m\u001b[0;34m\u001b[0m\u001b[0m\n",
            "\u001b[0;32m/usr/local/lib/python3.7/dist-packages/zmq/sugar/socket.py\u001b[0m in \u001b[0;36mrecv_multipart\u001b[0;34m(self, flags, copy, track)\u001b[0m\n\u001b[1;32m    726\u001b[0m         \"\"\"\n\u001b[0;32m--> 727\u001b[0;31m         \u001b[0mparts\u001b[0m \u001b[0;34m=\u001b[0m \u001b[0;34m[\u001b[0m\u001b[0mself\u001b[0m\u001b[0;34m.\u001b[0m\u001b[0mrecv\u001b[0m\u001b[0;34m(\u001b[0m\u001b[0mflags\u001b[0m\u001b[0;34m,\u001b[0m \u001b[0mcopy\u001b[0m\u001b[0;34m=\u001b[0m\u001b[0mcopy\u001b[0m\u001b[0;34m,\u001b[0m \u001b[0mtrack\u001b[0m\u001b[0;34m=\u001b[0m\u001b[0mtrack\u001b[0m\u001b[0;34m)\u001b[0m\u001b[0;34m]\u001b[0m\u001b[0;34m\u001b[0m\u001b[0;34m\u001b[0m\u001b[0m\n\u001b[0m\u001b[1;32m    728\u001b[0m         \u001b[0;31m# have first part already, only loop while more to receive\u001b[0m\u001b[0;34m\u001b[0m\u001b[0;34m\u001b[0m\u001b[0;34m\u001b[0m\u001b[0m\n",
            "\u001b[0;32mzmq/backend/cython/socket.pyx\u001b[0m in \u001b[0;36mzmq.backend.cython.socket.Socket.recv\u001b[0;34m()\u001b[0m\n",
            "\u001b[0;32mzmq/backend/cython/socket.pyx\u001b[0m in \u001b[0;36mzmq.backend.cython.socket.Socket.recv\u001b[0;34m()\u001b[0m\n",
            "\u001b[0;32mzmq/backend/cython/socket.pyx\u001b[0m in \u001b[0;36mzmq.backend.cython.socket._recv_copy\u001b[0;34m()\u001b[0m\n",
            "\u001b[0;32m/usr/local/lib/python3.7/dist-packages/zmq/backend/cython/checkrc.pxd\u001b[0m in \u001b[0;36mzmq.backend.cython.checkrc._check_rc\u001b[0;34m()\u001b[0m\n",
            "\u001b[0;31mKeyboardInterrupt\u001b[0m: ",
            "\nDuring handling of the above exception, another exception occurred:\n",
            "\u001b[0;31mKeyboardInterrupt\u001b[0m                         Traceback (most recent call last)",
            "\u001b[0;32m<ipython-input-1-ceb0a18241d0>\u001b[0m in \u001b[0;36m<module>\u001b[0;34m()\u001b[0m\n\u001b[1;32m      1\u001b[0m \u001b[0;31m# write your code here\u001b[0m\u001b[0;34m\u001b[0m\u001b[0;34m\u001b[0m\u001b[0;34m\u001b[0m\u001b[0m\n\u001b[0;32m----> 2\u001b[0;31m \u001b[0min_list\u001b[0m \u001b[0;34m=\u001b[0m \u001b[0minput\u001b[0m\u001b[0;34m(\u001b[0m\u001b[0;34m)\u001b[0m\u001b[0;34m.\u001b[0m\u001b[0msplit\u001b[0m\u001b[0;34m(\u001b[0m\u001b[0;34m','\u001b[0m\u001b[0;34m)\u001b[0m\u001b[0;34m\u001b[0m\u001b[0;34m\u001b[0m\u001b[0m\n\u001b[0m\u001b[1;32m      3\u001b[0m \u001b[0mint_list\u001b[0m \u001b[0;34m=\u001b[0m \u001b[0mlist\u001b[0m\u001b[0;34m(\u001b[0m\u001b[0mmap\u001b[0m\u001b[0;34m(\u001b[0m\u001b[0mint\u001b[0m\u001b[0;34m,\u001b[0m \u001b[0min_list\u001b[0m\u001b[0;34m)\u001b[0m\u001b[0;34m)\u001b[0m\u001b[0;34m\u001b[0m\u001b[0;34m\u001b[0m\u001b[0m\n\u001b[1;32m      4\u001b[0m \u001b[0mint_list\u001b[0m\u001b[0;34m.\u001b[0m\u001b[0msort\u001b[0m\u001b[0;34m(\u001b[0m\u001b[0;34m)\u001b[0m\u001b[0;34m\u001b[0m\u001b[0;34m\u001b[0m\u001b[0m\n\u001b[1;32m      5\u001b[0m \u001b[0;32mfor\u001b[0m \u001b[0mi\u001b[0m \u001b[0;32min\u001b[0m \u001b[0mrange\u001b[0m\u001b[0;34m(\u001b[0m\u001b[0mlen\u001b[0m\u001b[0;34m(\u001b[0m\u001b[0mint_list\u001b[0m\u001b[0;34m)\u001b[0m\u001b[0;34m)\u001b[0m\u001b[0;34m:\u001b[0m\u001b[0;34m\u001b[0m\u001b[0;34m\u001b[0m\u001b[0m\n",
            "\u001b[0;32m/usr/local/lib/python3.7/dist-packages/ipykernel/kernelbase.py\u001b[0m in \u001b[0;36mraw_input\u001b[0;34m(self, prompt)\u001b[0m\n\u001b[1;32m    702\u001b[0m             \u001b[0mself\u001b[0m\u001b[0;34m.\u001b[0m\u001b[0m_parent_ident\u001b[0m\u001b[0;34m,\u001b[0m\u001b[0;34m\u001b[0m\u001b[0;34m\u001b[0m\u001b[0m\n\u001b[1;32m    703\u001b[0m             \u001b[0mself\u001b[0m\u001b[0;34m.\u001b[0m\u001b[0m_parent_header\u001b[0m\u001b[0;34m,\u001b[0m\u001b[0;34m\u001b[0m\u001b[0;34m\u001b[0m\u001b[0m\n\u001b[0;32m--> 704\u001b[0;31m             \u001b[0mpassword\u001b[0m\u001b[0;34m=\u001b[0m\u001b[0;32mFalse\u001b[0m\u001b[0;34m,\u001b[0m\u001b[0;34m\u001b[0m\u001b[0;34m\u001b[0m\u001b[0m\n\u001b[0m\u001b[1;32m    705\u001b[0m         )\n\u001b[1;32m    706\u001b[0m \u001b[0;34m\u001b[0m\u001b[0m\n",
            "\u001b[0;32m/usr/local/lib/python3.7/dist-packages/ipykernel/kernelbase.py\u001b[0m in \u001b[0;36m_input_request\u001b[0;34m(self, prompt, ident, parent, password)\u001b[0m\n\u001b[1;32m    732\u001b[0m             \u001b[0;32mexcept\u001b[0m \u001b[0mKeyboardInterrupt\u001b[0m\u001b[0;34m:\u001b[0m\u001b[0;34m\u001b[0m\u001b[0;34m\u001b[0m\u001b[0m\n\u001b[1;32m    733\u001b[0m                 \u001b[0;31m# re-raise KeyboardInterrupt, to truncate traceback\u001b[0m\u001b[0;34m\u001b[0m\u001b[0;34m\u001b[0m\u001b[0;34m\u001b[0m\u001b[0m\n\u001b[0;32m--> 734\u001b[0;31m                 \u001b[0;32mraise\u001b[0m \u001b[0mKeyboardInterrupt\u001b[0m\u001b[0;34m\u001b[0m\u001b[0;34m\u001b[0m\u001b[0m\n\u001b[0m\u001b[1;32m    735\u001b[0m             \u001b[0;32melse\u001b[0m\u001b[0;34m:\u001b[0m\u001b[0;34m\u001b[0m\u001b[0;34m\u001b[0m\u001b[0m\n\u001b[1;32m    736\u001b[0m                 \u001b[0;32mbreak\u001b[0m\u001b[0;34m\u001b[0m\u001b[0;34m\u001b[0m\u001b[0m\n",
            "\u001b[0;31mKeyboardInterrupt\u001b[0m: "
          ]
        }
      ],
      "id": "SG9JO0bn6y55"
    },
    {
      "cell_type": "markdown",
      "source": [
        "* 題目重點\n",
        "\n",
        "1. 使用者輸入(切割)\n",
        "2. `list` 使用"
      ],
      "metadata": {
        "id": "oHyRZr2c6yhh"
      },
      "id": "oHyRZr2c6yhh"
    },
    {
      "cell_type": "markdown",
      "id": "dff8f13f-1572-4b09-b935-3599d434bee7",
      "metadata": {
        "id": "dff8f13f-1572-4b09-b935-3599d434bee7"
      },
      "source": [
        "## *c02\n",
        "\n",
        "現在有份文件`names.txt`紀錄一些學生及他的學號，姓名與學號之間用空白隔開，如下 :\n",
        "\n",
        "```\n",
        "411071112 陳仰玟\n",
        "411071114 陸新玫\n",
        "411071115 陳晏樺\n",
        "411071116 鄧蘭茂\n",
        "411071118 賴怡潔\n",
        "411071120 朱京念\n",
        "411071122 李苑旭\n",
        "411071124 李政宏\n",
        "411071125 林承翰\n",
        "411071126 許亦禮\n",
        "```\n",
        "\n",
        "請自行建立這個檔案，再使用 python 程式將這個檔案的內容讀取出來，並依照內容產生一個`dict`容器(名字自訂)。  \n",
        "其中`key`為該名學生的學號(不一定要轉型成數字型態)，`value`為該名學生的姓名，這個`dict`容器會長得像這樣 :\n",
        "\n",
        "```python\n",
        "{'411071112': '陳仰玟',\n",
        " '411071114': '陸新玫',\n",
        " '411071115': '陳晏樺',\n",
        " '411071116': '鄧蘭茂',\n",
        " '411071118': '賴怡潔',\n",
        " '411071120': '朱京念',\n",
        " '411071122': '李苑旭',\n",
        " '411071124': '李政宏',\n",
        " '411071125': '林承翰',\n",
        " '411071126': '許亦禮'}\n",
        "```"
      ]
    },
    {
      "cell_type": "code",
      "execution_count": null,
      "id": "05c98dc7-ab56-478a-a07e-d040527b0c43",
      "metadata": {
        "tags": [
          "solution"
        ],
        "id": "05c98dc7-ab56-478a-a07e-d040527b0c43",
        "colab": {
          "base_uri": "https://localhost:8080/"
        },
        "outputId": "be8bf63e-c6d8-4782-aa09-6035f276e069"
      },
      "outputs": [
        {
          "output_type": "stream",
          "name": "stdout",
          "text": [
            "{411071112: '陳仰玟', 411071114: '陸新玫', 411071115: '陳晏樺', 411071116: '鄧蘭茂', 411071118: '賴怡潔', 411071120: '朱京念', 411071122: '李苑旭', 411071124: '李政宏', 411071125: '林承翰', 411071126: '許亦禮'}\n"
          ]
        }
      ],
      "source": [
        "# write your code here\n",
        "\n",
        "file = open(\"names.txt\", mode=\"w\")\n",
        "file.write('''411071112 陳仰玟\n",
        "411071114 陸新玫\n",
        "411071115 陳晏樺\n",
        "411071116 鄧蘭茂\n",
        "411071118 賴怡潔\n",
        "411071120 朱京念\n",
        "411071122 李苑旭\n",
        "411071124 李政宏\n",
        "411071125 林承翰\n",
        "411071126 許亦禮''')\n",
        "\n",
        "a = {}\n",
        "file = open(\"names.txt\", mode=\"r\")\n",
        "with open(\"names.txt\") as f:\n",
        "  for line in f:\n",
        "    (k, v) = line.split()\n",
        "    a[int(k)] = v\n",
        "print(a)"
      ]
    },
    {
      "cell_type": "markdown",
      "id": "84b7ef14-20e2-4a8d-9931-1b95275254cb",
      "metadata": {
        "id": "84b7ef14-20e2-4a8d-9931-1b95275254cb"
      },
      "source": [
        "* 題目重點\n",
        "\n",
        "1. 讀取檔案\n",
        "2. `dict`"
      ]
    },
    {
      "cell_type": "markdown",
      "source": [
        "\n",
        "## *c03\n",
        "\n",
        "小蕙是一位教師，請你為小蕙設計一個輸入三科主科成績、儲存並供查詢的程式。\n",
        "1. 小蕙可以分別選擇輸入哪一科。如果輸入「-1」表示此科成績輸入結束。\n",
        "2. 輸入的三科全班成績需儲存成檔案。\n",
        "3. 在輸入三科的成績結束後，顯示班上三個科目的全部學生成績以及平均成績。\n",
        "4. 可以從 `2.` 儲存的檔案中查詢個別學生的各科成績與平均成績。\n",
        "\n",
        "`註：一開始第一層的選項可以有:(1)輸入成績 (2)查詢成績 ，再進入下一層選項。`"
      ],
      "metadata": {
        "id": "esGQoDGeUjhi"
      },
      "id": "esGQoDGeUjhi"
    },
    {
      "cell_type": "code",
      "source": [
        "#import csv\n",
        "from numpy import loadtxt\n",
        "from time import sleep\n",
        "longscore = 0\n",
        "\n",
        "while True:\n",
        "    todo = str(input('要做什麼？ '))\n",
        "    print()\n",
        "    \n",
        "    if todo=='1' or todo=='輸入成績':\n",
        "        score1 = []\n",
        "        score2 = []\n",
        "        score3 = []\n",
        "        for i in range(1,4): #三個科目\n",
        "                print(\"主科\"+str(i)+\":\",end='\\n')\n",
        "                if i==1:\n",
        "                    score1.append('1')\n",
        "                    q=1\n",
        "                    while True:\n",
        "                        num = str(input(str(q)+'號成績:'))\n",
        "                        if num == '-1':\n",
        "                          break\n",
        "                        else:\n",
        "                          score1.append(num)\n",
        "                          q+=1\n",
        "                    score1.append('-1')\n",
        "                elif i==2:\n",
        "                    score2.append('2')\n",
        "                    q=1\n",
        "                    while True:\n",
        "                        num = str(input(str(q)+'號成績:'))\n",
        "                        if num == '-1':\n",
        "                          break\n",
        "                        else:\n",
        "                          score2.append(num)\n",
        "                          q+=1\n",
        "                    score2.append('-1')\n",
        "                elif i==3:\n",
        "                    score3.append('3')\n",
        "                    q=1\n",
        "                    while True:\n",
        "                        num = str(input(str(q)+'號成績:'))\n",
        "                        if num == '-1':\n",
        "                          break\n",
        "                        else:\n",
        "                          score3.append(num)\n",
        "                          q+=1\n",
        "                    score3.append('-1')\n",
        "                else:\n",
        "                    break\n",
        "                print()\n",
        "\n",
        "        j=1\n",
        "        sum=0\n",
        "        print(\"主科1：\",end='\\n')\n",
        "        while not(score1[j] == '-1'):\n",
        "            print(j,\"號成績：\",score1[j])\n",
        "            sum += int(score1[j])\n",
        "            j+=1\n",
        "        #print(sum)\n",
        "        #print(j)\n",
        "        print(\"全班平均：\",sum/(j-1),\"分\")\n",
        "        print()\n",
        "        \n",
        "        j=1\n",
        "        sum=0\n",
        "        print(\"主科2：\",end='\\n')\n",
        "        while not(score2[j] == '-1'):\n",
        "            print(j,\"號成績：\",score2[j])\n",
        "            sum += int(score2[j])\n",
        "            j+=1\n",
        "        #print(sum)\n",
        "        #print(j)\n",
        "        print(\"全班平均：\",sum/(j-1),\"分\")\n",
        "        print()\n",
        "        \n",
        "        j=1\n",
        "        sum=0\n",
        "        print(\"主科3：\",end='\\n')\n",
        "        while not(score3[j] == '-1'):\n",
        "            print(j,\"號成績：\",score3[j])\n",
        "            sum += int(score3[j])\n",
        "            j+=1\n",
        "        #print(sum)\n",
        "        #print(j)\n",
        "        print(\"全班平均：\",sum/(j-1),\"分\")\n",
        "        print()\n",
        "        \n",
        "        file = open(\"scorex3.txt\", mode=\"w\")\n",
        "        file.write(score1[0])\n",
        "        for i in range(1,len(score1)):\n",
        "            file.write(',')\n",
        "            file.write(score1[i])\n",
        "        file.close()\n",
        "        \n",
        "        file = open(\"scorex3.txt\", mode=\"a\")\n",
        "        for j in range(0,len(score2)):\n",
        "            file.write(',')\n",
        "            file.write(score2[j])\n",
        "            \n",
        "        for k in range(0,len(score3)):\n",
        "            file.write(',')\n",
        "            file.write(score3[k])\n",
        "        file.close()    \n",
        "        sleep(0.5)\n",
        "        \n",
        "        if len(score1) == len(score3) and len(score3) == len(score2):\n",
        "            longscore = len(score1)\n",
        "            file = open(\"scorex3.txt\", mode=\"a\")\n",
        "            file.write(',')\n",
        "            file.write(str(longscore))\n",
        "            file.close()\n",
        "            #print('longscore = ',longscore)\n",
        "            print('完成輸入!')\n",
        "        else:\n",
        "            print('請重新輸入!')\n",
        "            continue\n",
        "        \n",
        "    elif todo=='2' or todo=='查詢成績':\n",
        "\n",
        "        lines = []\n",
        "        file = open(\"scorex3.txt\", mode=\"r\")\n",
        "        lines = file.readline()    \n",
        "        lines = lines.split(',')\n",
        "        #print(lines)\n",
        "        \n",
        "        num = int(input('要查詢的座號：'))\n",
        "        if num >3 or num<1 :\n",
        "          print('請重新輸入!')\n",
        "          continue\n",
        "        \n",
        "        sum = 0\n",
        "        if longscore == 0:\n",
        "            lestline = len(lines)-1\n",
        "            longscore = int(lines[lestline])\n",
        "\n",
        "        \n",
        "        print(\"主科1分數：\"+lines[num]+\"分\")\n",
        "        print(\"主科2分數：\"+lines[num+num +2 +(longscore-2-num)]+\"分\")\n",
        "        print(\"主科3分數：\"+lines[num+num+num +2 +2 +((longscore -2-num)*2)]+\"分\")\n",
        "        sum += (int(lines[num])+int(lines[num+num +2 +(longscore-2-num)])+int(lines[num+num+num +2 +2 +((longscore -2-num)*2)]))\n",
        "        print(\"平均\",sum/3,\"分\")\n",
        "        file.close()\n",
        "        \n",
        "    elif todo=='-1':\n",
        "        break\n",
        "    \n",
        "    else:\n",
        "        print('請重新輸入!')\n",
        "    "
      ],
      "metadata": {
        "id": "2l0d6qKXVZwr",
        "colab": {
          "base_uri": "https://localhost:8080/"
        },
        "outputId": "0dbc0845-6d26-4ff4-aaa1-c345bafcb8a5"
      },
      "execution_count": null,
      "outputs": [
        {
          "output_type": "stream",
          "name": "stdout",
          "text": [
            "要做什麼？ 2\n",
            "\n",
            "要查詢的座號：3\n",
            "主科1分數：13分\n",
            "主科2分數：23分\n",
            "主科3分數：33分\n",
            "平均 23.0 分\n",
            "要做什麼？ 2\n",
            "\n",
            "要查詢的座號：4\n",
            "要做什麼？ -1\n",
            "\n"
          ]
        }
      ],
      "id": "2l0d6qKXVZwr"
    },
    {
      "cell_type": "markdown",
      "source": [
        "*  題目重點\n",
        "\n",
        "1. `list` or `dic`\n",
        "3. a little math"
      ],
      "metadata": {
        "id": "zN9ITZlpVexh"
      },
      "id": "zN9ITZlpVexh"
    },
    {
      "cell_type": "markdown",
      "id": "0542994f-815d-4263-8ade-fe1f96ebb4c3",
      "metadata": {
        "id": "0542994f-815d-4263-8ade-fe1f96ebb4c3"
      },
      "source": [
        "## *d01\n",
        "\n",
        "已知費式數列的定義如下 :\n",
        "\n",
        "* $F_0 = 0$\n",
        "* $F_1 = 1$\n",
        "* $F_n = F_{n-1} + F_{n-2}, for \\space n \\geq 2 \\space and \\space n \\in Z^+$\n",
        "\n",
        "簡而言之，數列的第0項為0，第1項為1，第二項開始則為該項的前兩項和，如第二項為第零項及第一項之和。\n",
        "\n",
        "我們可以使用遞迴的方式來計算費式數列中每一項的值，例如以下的 python 程式 :\n",
        "\n",
        "```python\n",
        "def fib(n):\n",
        "    if n == 0 :\n",
        "        return 0\n",
        "    if n == 1:\n",
        "        return 1\n",
        "    else:\n",
        "        return fib(n-1) + fib(n-2)\n",
        "```\n",
        "\n",
        "現在請你設計一個函式`calculate_fib_recursion_times(n)`，`n`代表費式數列的第`n`項，請計算並回傳(`return`)若使用上方的遞迴程式共需要呼叫幾次`fib()`函式。**參數`n`介於0~1000之間。**\n",
        "\n",
        "如 :\n",
        "\n",
        "* `calculate_fib_recursion_times(3)` = 5，因為執行`fib(3)`時共需要呼叫 5 次`fib()`函式(如下圖)\n",
        "\n",
        "<img src=\"https://i.imgur.com/tMUpMTa.jpg\" width=\"400\" />\n",
        "\n",
        "* `calculate_fib_recursion_times(5)` = 15\n",
        "\n",
        "<img src=\"https://i.imgur.com/J6JdGyp.jpg\" width=\"600\" />"
      ]
    },
    {
      "cell_type": "code",
      "execution_count": null,
      "id": "9c88e8a3-e113-4b1f-9108-87ad1f6996c0",
      "metadata": {
        "tags": [
          "solution"
        ],
        "id": "9c88e8a3-e113-4b1f-9108-87ad1f6996c0",
        "colab": {
          "base_uri": "https://localhost:8080/"
        },
        "outputId": "b0ca8562-0745-4320-f96d-3613ec567970"
      },
      "outputs": [
        {
          "output_type": "stream",
          "name": "stdout",
          "text": [
            "1\n",
            "1\n",
            "3\n",
            "5\n",
            "9\n",
            "15\n",
            "25\n",
            "41\n",
            "67\n",
            "109\n",
            "177\n",
            "287\n",
            "465\n",
            "753\n",
            "1219\n",
            "1973\n",
            "3193\n",
            "5167\n",
            "8361\n",
            "13529\n",
            "21891\n",
            "35421\n",
            "57313\n",
            "92735\n",
            "150049\n",
            "242785\n",
            "392835\n",
            "635621\n",
            "1028457\n",
            "1664079\n",
            "2692537\n",
            "4356617\n",
            "7049155\n",
            "11405773\n",
            "18454929\n",
            "29860703\n",
            "48315633\n",
            "78176337\n",
            "126491971\n",
            "204668309\n",
            "331160281\n",
            "535828591\n",
            "866988873\n",
            "1402817465\n",
            "2269806339\n",
            "3672623805\n",
            "5942430145\n",
            "9615053951\n",
            "15557484097\n",
            "25172538049\n",
            "40730022147\n",
            "65902560197\n",
            "106632582345\n",
            "172535142543\n",
            "279167724889\n",
            "451702867433\n",
            "730870592323\n",
            "1182573459757\n",
            "1913444052081\n",
            "3096017511839\n",
            "5009461563921\n",
            "8105479075761\n",
            "13114940639683\n",
            "21220419715445\n",
            "34335360355129\n",
            "55555780070575\n",
            "89891140425705\n",
            "145446920496281\n",
            "235338060921987\n",
            "380784981418269\n",
            "616123042340257\n",
            "996908023758527\n",
            "1613031066098785\n",
            "2609939089857313\n",
            "4222970155956099\n",
            "6832909245813413\n",
            "11055879401769513\n",
            "17888788647582927\n",
            "28944668049352441\n",
            "46833456696935369\n",
            "75778124746287811\n",
            "122611581443223181\n",
            "198389706189510993\n",
            "321001287632734175\n",
            "519390993822245169\n",
            "840392281454979345\n",
            "1359783275277224515\n",
            "2200175556732203861\n",
            "3559958832009428377\n",
            "5760134388741632239\n",
            "9320093220751060617\n",
            "15080227609492692857\n",
            "24400320830243753475\n",
            "39480548439736446333\n",
            "63880869269980199809\n",
            "103361417709716646143\n",
            "167242286979696845953\n",
            "270603704689413492097\n",
            "437845991669110338051\n",
            "708449696358523830149\n"
          ]
        }
      ],
      "source": [
        "# function calculate_fib_recursion_times()\n",
        "'''\n",
        "def calculate_fib_recursion_times_02(n):\n",
        "  # write your code from here\n",
        "  if n==0:\n",
        "    return 1\n",
        "  if n==1:\n",
        "    return 1\n",
        "  def fib(k):\n",
        "    if k == 0 :\n",
        "        return 0\n",
        "    if k == 1:\n",
        "        return 1\n",
        "    else:\n",
        "        return fib(k-1) + fib(k-2)\n",
        "  sum = fib(n-1)\n",
        "  for i in range(n+1):\n",
        "    sum += fib(i)\n",
        "\n",
        "  return sum\n",
        "'''\n",
        "def calculate_fib_recursion_times(n):\n",
        "  if n == 0 or n == 1:\n",
        "    return 1\n",
        "  num = []\n",
        "  sum = 0\n",
        "  for i in range(n):\n",
        "    if i == n-1:\n",
        "      num.append(1)\n",
        "    else:\n",
        "      num.append(0)\n",
        "  #print(num)\n",
        "  for i in range(n,0,-1):\n",
        "    sum += num[i-1]\n",
        "    if i==2:\n",
        "      sum += num[i-1]\n",
        "    num[i-2] += num[i-1]\n",
        "    num[i-3] += num[i-1]\n",
        "  return sum\n",
        "\n",
        "for i in range(100):\n",
        "  print(calculate_fib_recursion_times(i))"
      ]
    },
    {
      "cell_type": "markdown",
      "id": "385f987f-5caf-43f5-9636-50db824145b1",
      "metadata": {
        "id": "385f987f-5caf-43f5-9636-50db824145b1"
      },
      "source": [
        "* 題目重點\n",
        "\n",
        "1. 熟練函式\n",
        "2. 演算法、邏輯"
      ]
    },
    {
      "cell_type": "markdown",
      "id": "98387598-da39-484b-8c92-f3af393579f5",
      "metadata": {
        "id": "98387598-da39-484b-8c92-f3af393579f5"
      },
      "source": [
        "## *d02\n",
        "\n",
        "請用`numpy`跟`matplotlib`畫出符合以下規則的正弦(sin)、餘弦(cos)波圖 :\n",
        "\n",
        "* 正弦波1 :\n",
        "\n",
        "    1. 振幅 = 10\n",
        "    2. 波長 = 5\n",
        "    3. 顏色 = 紅色\n",
        "    4. 線 = ------\n",
        "    5. 橫軸範圍 : -30 ~ 30\n",
        "    \n",
        "* 正弦波2 :\n",
        "\n",
        "    1. 振幅 = 5\n",
        "    2. 波長 = 20\n",
        "    3. 顏色 = 綠色\n",
        "    4. 線 = ------\n",
        "    5. 橫軸範圍 : -30 ~ 30\n",
        "    \n",
        "* 餘弦波1 :\n",
        "\n",
        "    1. 振幅 = 10\n",
        "    2. 波長 = 5\n",
        "    3. 顏色 = 紅色\n",
        "    4. 線 = .......\n",
        "    5. 橫軸範圍 : -30 ~ 30\n",
        "    \n",
        "* 餘弦波2 :\n",
        "\n",
        "    1. 振幅 = 5\n",
        "    2. 波長 = 20\n",
        "    3. 顏色 = 綠色\n",
        "    4. 線 = .......\n",
        "    5. 橫軸範圍 : -30 ~ 30\n",
        "\n",
        "以上的振幅及波長皆使用`matplotlib`預設的單位(圖表上標的數字)。\n",
        "\n",
        "可以在畫圖表之前加上`plt.grid()`讓圖表加上格線，方便確認目前的單位。"
      ]
    },
    {
      "cell_type": "code",
      "source": [
        "pip install numpy"
      ],
      "metadata": {
        "colab": {
          "base_uri": "https://localhost:8080/"
        },
        "id": "hUVdZWq1qtJw",
        "outputId": "acabe9b1-ea10-4d8e-de67-8f8ac6a97f0b"
      },
      "id": "hUVdZWq1qtJw",
      "execution_count": null,
      "outputs": [
        {
          "output_type": "stream",
          "name": "stdout",
          "text": [
            "Looking in indexes: https://pypi.org/simple, https://us-python.pkg.dev/colab-wheels/public/simple/\n",
            "Requirement already satisfied: numpy in /usr/local/lib/python3.7/dist-packages (1.21.6)\n"
          ]
        }
      ]
    },
    {
      "cell_type": "code",
      "source": [
        "pip install matplotlib"
      ],
      "metadata": {
        "colab": {
          "base_uri": "https://localhost:8080/"
        },
        "id": "_1OPBMcAqxEB",
        "outputId": "de30dfef-1197-4668-ff5b-9e476ce55d2a"
      },
      "id": "_1OPBMcAqxEB",
      "execution_count": null,
      "outputs": [
        {
          "output_type": "stream",
          "name": "stdout",
          "text": [
            "Looking in indexes: https://pypi.org/simple, https://us-python.pkg.dev/colab-wheels/public/simple/\n",
            "Requirement already satisfied: matplotlib in /usr/local/lib/python3.7/dist-packages (3.2.2)\n",
            "Requirement already satisfied: numpy>=1.11 in /usr/local/lib/python3.7/dist-packages (from matplotlib) (1.21.6)\n",
            "Requirement already satisfied: cycler>=0.10 in /usr/local/lib/python3.7/dist-packages (from matplotlib) (0.11.0)\n",
            "Requirement already satisfied: kiwisolver>=1.0.1 in /usr/local/lib/python3.7/dist-packages (from matplotlib) (1.4.3)\n",
            "Requirement already satisfied: python-dateutil>=2.1 in /usr/local/lib/python3.7/dist-packages (from matplotlib) (2.8.2)\n",
            "Requirement already satisfied: pyparsing!=2.0.4,!=2.1.2,!=2.1.6,>=2.0.1 in /usr/local/lib/python3.7/dist-packages (from matplotlib) (3.0.9)\n",
            "Requirement already satisfied: typing-extensions in /usr/local/lib/python3.7/dist-packages (from kiwisolver>=1.0.1->matplotlib) (4.1.1)\n",
            "Requirement already satisfied: six>=1.5 in /usr/local/lib/python3.7/dist-packages (from python-dateutil>=2.1->matplotlib) (1.15.0)\n"
          ]
        }
      ]
    },
    {
      "cell_type": "code",
      "source": [
        "import numpy as np\n",
        "import matplotlib.pyplot as plt\n",
        "\n",
        "#1\n",
        "x = np.arange(-30,30,0.1)\n",
        "y = 10*np.sin(x/2.5*np.pi)\n",
        "\n",
        "plt.grid()\n",
        "plt.plot(x, y, color='r', linestyle='--') #r ,g , --, :\n",
        "#plt.legend(['sin 1'])\n",
        "plt.show()\n",
        "\n",
        "#2\n",
        "x = np.arange(-30,30,0.1)  \n",
        "y = 5*np.sin(x/10.0*np.pi)\n",
        "\n",
        "plt.grid()\n",
        "plt.plot(x, y, color='g', linestyle='--') #r ,g , --, :\n",
        "#plt.legend(['sin 2'])\n",
        "plt.show()\n",
        "\n",
        "#3\n",
        "x = np.arange(-30,30,0.1)  \n",
        "y = 10*np.cos(x/2.5*np.pi)\n",
        "\n",
        "plt.grid()\n",
        "plt.plot(x, y, color='r', linestyle=':') #r ,g , --, :\n",
        "#plt.legend(['sin 2'])\n",
        "plt.show()\n",
        "\n",
        "\n",
        "#4\n",
        "x = np.arange(-30,30,0.1)  \n",
        "y = 5*np.cos(x/10.0*np.pi)\n",
        "\n",
        "plt.grid()\n",
        "plt.plot(x, y, color='g', linestyle=':') #r ,g , --, :\n",
        "#plt.legend(['sin 2'])\n",
        "plt.show()"
      ],
      "metadata": {
        "colab": {
          "base_uri": "https://localhost:8080/",
          "height": 1000
        },
        "id": "IExtUL8PrAFu",
        "outputId": "ddce39ec-9181-4eac-cb50-b581f335a88a"
      },
      "id": "IExtUL8PrAFu",
      "execution_count": null,
      "outputs": [
        {
          "output_type": "display_data",
          "data": {
            "text/plain": [
              "<Figure size 432x288 with 1 Axes>"
            ],
            "image/png": "[encoded data removed]"
          },
          "metadata": {
            "needs_background": "light"
          }
        },
        {
          "output_type": "display_data",
          "data": {
            "text/plain": [
              "<Figure size 432x288 with 1 Axes>"
            ],
            "image/png": "[encoded data removed]"
          },
          "metadata": {
            "needs_background": "light"
          }
        },
        {
          "output_type": "display_data",
          "data": {
            "text/plain": [
              "<Figure size 432x288 with 1 Axes>"
            ],
            "image/png": "[encoded data removed]"
          },
          "metadata": {
            "needs_background": "light"
          }
        },
        {
          "output_type": "display_data",
          "data": {
            "text/plain": [
              "<Figure size 432x288 with 1 Axes>"
            ],
            "image/png": "[encoded data removed]"
          },
          "metadata": {
            "needs_background": "light"
          }
        }
      ]
    },
    {
      "cell_type": "markdown",
      "id": "3e019d72-0c47-4137-b3db-1c423666a68b",
      "metadata": {
        "id": "3e019d72-0c47-4137-b3db-1c423666a68b"
      },
      "source": [
        "* 題目重點\n",
        "\n",
        "1. `numpy`\n",
        "2. `matplotlib`\n",
        "3. a little math"
      ]
    },
    {
      "cell_type": "markdown",
      "id": "4fa80ad5-06b0-4fbf-9af8-1efa18b88660",
      "metadata": {
        "id": "4fa80ad5-06b0-4fbf-9af8-1efa18b88660"
      },
      "source": [
        "## *d03\n",
        "\n",
        "井字遊戲的大略規則為 :  \n",
        "`O` `X` 雙方輪流在3x3的九宮格上下子，若有一方連成一條線，則該玩家就獲勝\n",
        "\n",
        "* **輸入說明**\n",
        "\n",
        "> 使用者輸入一串只包含`X`、`O`及` `的字串(大寫英文字母及空白)，代表一局井字遊戲的結果。每個字元分別對應九宮格的每一個格子，順序從九宮格的左上角到右下角 :\n",
        "\n",
        "![#1](data:image/png;base64,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)\n",
        "\n",
        "> 因此若輸入字串為`OXX OXOOX`，則代表以下，`X`方獲勝的一局井字遊戲 :\n",
        "\n",
        "![#2](data:image/png;base64,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)\n",
        "\n",
        "* **輸出說明**\n",
        "\n",
        "> 判斷此局井字遊戲的結果為誰獲勝，如果`X`方則輸出`X`，`O`方則輸出`O`，雙方平手則輸出`DRAW`\n",
        "\n",
        "* **example 1**\n",
        "\n",
        "    * Input\n",
        "    \n",
        "    > `XOXOXXOXO`\n",
        "    \n",
        "    * Output\n",
        "    \n",
        "    > `DRAW`\n",
        "    \n",
        "    * Explanation\n",
        "    \n",
        "        這局的棋盤狀態如下 :\n",
        "\n",
        "        ![#3](data:image/png;base64,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)\n",
        "        \n",
        "* **example 2**\n",
        "\n",
        "    * Input\n",
        "    \n",
        "        > `OOOXX O X`\n",
        "    \n",
        "    * Output\n",
        "    \n",
        "    > `O`\n",
        "    \n",
        "    * Explanation\n",
        "    \n",
        "        這局的棋盤狀態如下 :\n",
        "\n",
        "        ![#4](data:image/png;base64,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)\n",
        "\n",
        "* 提示 : 字串可以像`list`一樣取值\n",
        "\n",
        "    i.e.\n",
        "\n",
        "    ```python\n",
        "    str1 = 'abcdef'\n",
        "    print(str1[3])\n",
        "    ```\n",
        "\n",
        "    結果為輸出`d`"
      ]
    },
    {
      "cell_type": "code",
      "execution_count": null,
      "id": "f078245f-32a0-4936-8ff7-c5c591b0d4fd",
      "metadata": {
        "id": "f078245f-32a0-4936-8ff7-c5c591b0d4fd",
        "colab": {
          "base_uri": "https://localhost:8080/",
          "height": 555
        },
        "outputId": "8a342f10-7986-4cbd-a225-6592e49be000"
      },
      "outputs": [
        {
          "name": "stdout",
          "output_type": "stream",
          "text": [
            "132\n"
          ]
        },
        {
          "output_type": "error",
          "ename": "KeyboardInterrupt",
          "evalue": "ignored",
          "traceback": [
            "\u001b[0;31m---------------------------------------------------------------------------\u001b[0m",
            "\u001b[0;31mKeyboardInterrupt\u001b[0m                         Traceback (most recent call last)",
            "\u001b[0;32m/usr/local/lib/python3.7/dist-packages/ipykernel/kernelbase.py\u001b[0m in \u001b[0;36m_input_request\u001b[0;34m(self, prompt, ident, parent, password)\u001b[0m\n\u001b[1;32m    728\u001b[0m             \u001b[0;32mtry\u001b[0m\u001b[0;34m:\u001b[0m\u001b[0;34m\u001b[0m\u001b[0;34m\u001b[0m\u001b[0m\n\u001b[0;32m--> 729\u001b[0;31m                 \u001b[0mident\u001b[0m\u001b[0;34m,\u001b[0m \u001b[0mreply\u001b[0m \u001b[0;34m=\u001b[0m \u001b[0mself\u001b[0m\u001b[0;34m.\u001b[0m\u001b[0msession\u001b[0m\u001b[0;34m.\u001b[0m\u001b[0mrecv\u001b[0m\u001b[0;34m(\u001b[0m\u001b[0mself\u001b[0m\u001b[0;34m.\u001b[0m\u001b[0mstdin_socket\u001b[0m\u001b[0;34m,\u001b[0m \u001b[0;36m0\u001b[0m\u001b[0;34m)\u001b[0m\u001b[0;34m\u001b[0m\u001b[0;34m\u001b[0m\u001b[0m\n\u001b[0m\u001b[1;32m    730\u001b[0m             \u001b[0;32mexcept\u001b[0m \u001b[0mException\u001b[0m\u001b[0;34m:\u001b[0m\u001b[0;34m\u001b[0m\u001b[0;34m\u001b[0m\u001b[0m\n",
            "\u001b[0;32m/usr/local/lib/python3.7/dist-packages/jupyter_client/session.py\u001b[0m in \u001b[0;36mrecv\u001b[0;34m(self, socket, mode, content, copy)\u001b[0m\n\u001b[1;32m    802\u001b[0m         \u001b[0;32mtry\u001b[0m\u001b[0;34m:\u001b[0m\u001b[0;34m\u001b[0m\u001b[0;34m\u001b[0m\u001b[0m\n\u001b[0;32m--> 803\u001b[0;31m             \u001b[0mmsg_list\u001b[0m \u001b[0;34m=\u001b[0m \u001b[0msocket\u001b[0m\u001b[0;34m.\u001b[0m\u001b[0mrecv_multipart\u001b[0m\u001b[0;34m(\u001b[0m\u001b[0mmode\u001b[0m\u001b[0;34m,\u001b[0m \u001b[0mcopy\u001b[0m\u001b[0;34m=\u001b[0m\u001b[0mcopy\u001b[0m\u001b[0;34m)\u001b[0m\u001b[0;34m\u001b[0m\u001b[0;34m\u001b[0m\u001b[0m\n\u001b[0m\u001b[1;32m    804\u001b[0m         \u001b[0;32mexcept\u001b[0m \u001b[0mzmq\u001b[0m\u001b[0;34m.\u001b[0m\u001b[0mZMQError\u001b[0m \u001b[0;32mas\u001b[0m \u001b[0me\u001b[0m\u001b[0;34m:\u001b[0m\u001b[0;34m\u001b[0m\u001b[0;34m\u001b[0m\u001b[0m\n",
            "\u001b[0;32m/usr/local/lib/python3.7/dist-packages/zmq/sugar/socket.py\u001b[0m in \u001b[0;36mrecv_multipart\u001b[0;34m(self, flags, copy, track)\u001b[0m\n\u001b[1;32m    726\u001b[0m         \"\"\"\n\u001b[0;32m--> 727\u001b[0;31m         \u001b[0mparts\u001b[0m \u001b[0;34m=\u001b[0m \u001b[0;34m[\u001b[0m\u001b[0mself\u001b[0m\u001b[0;34m.\u001b[0m\u001b[0mrecv\u001b[0m\u001b[0;34m(\u001b[0m\u001b[0mflags\u001b[0m\u001b[0;34m,\u001b[0m \u001b[0mcopy\u001b[0m\u001b[0;34m=\u001b[0m\u001b[0mcopy\u001b[0m\u001b[0;34m,\u001b[0m \u001b[0mtrack\u001b[0m\u001b[0;34m=\u001b[0m\u001b[0mtrack\u001b[0m\u001b[0;34m)\u001b[0m\u001b[0;34m]\u001b[0m\u001b[0;34m\u001b[0m\u001b[0;34m\u001b[0m\u001b[0m\n\u001b[0m\u001b[1;32m    728\u001b[0m         \u001b[0;31m# have first part already, only loop while more to receive\u001b[0m\u001b[0;34m\u001b[0m\u001b[0;34m\u001b[0m\u001b[0;34m\u001b[0m\u001b[0m\n",
            "\u001b[0;32mzmq/backend/cython/socket.pyx\u001b[0m in \u001b[0;36mzmq.backend.cython.socket.Socket.recv\u001b[0;34m()\u001b[0m\n",
            "\u001b[0;32mzmq/backend/cython/socket.pyx\u001b[0m in \u001b[0;36mzmq.backend.cython.socket.Socket.recv\u001b[0;34m()\u001b[0m\n",
            "\u001b[0;32mzmq/backend/cython/socket.pyx\u001b[0m in \u001b[0;36mzmq.backend.cython.socket._recv_copy\u001b[0;34m()\u001b[0m\n",
            "\u001b[0;32m/usr/local/lib/python3.7/dist-packages/zmq/backend/cython/checkrc.pxd\u001b[0m in \u001b[0;36mzmq.backend.cython.checkrc._check_rc\u001b[0;34m()\u001b[0m\n",
            "\u001b[0;31mKeyboardInterrupt\u001b[0m: ",
            "\nDuring handling of the above exception, another exception occurred:\n",
            "\u001b[0;31mKeyboardInterrupt\u001b[0m                         Traceback (most recent call last)",
            "\u001b[0;32m<ipython-input-1-d35c76b2e1b6>\u001b[0m in \u001b[0;36m<module>\u001b[0;34m()\u001b[0m\n\u001b[1;32m     20\u001b[0m     \u001b[0;32mreturn\u001b[0m \u001b[0;32mFalse\u001b[0m\u001b[0;34m\u001b[0m\u001b[0;34m\u001b[0m\u001b[0m\n\u001b[1;32m     21\u001b[0m \u001b[0;32mwhile\u001b[0m \u001b[0;32mTrue\u001b[0m\u001b[0;34m:\u001b[0m\u001b[0;34m\u001b[0m\u001b[0;34m\u001b[0m\u001b[0m\n\u001b[0;32m---> 22\u001b[0;31m   \u001b[0mbo\u001b[0m \u001b[0;34m=\u001b[0m \u001b[0mstr\u001b[0m\u001b[0;34m(\u001b[0m\u001b[0minput\u001b[0m\u001b[0;34m(\u001b[0m\u001b[0;34m)\u001b[0m\u001b[0;34m)\u001b[0m\u001b[0;34m\u001b[0m\u001b[0;34m\u001b[0m\u001b[0m\n\u001b[0m\u001b[1;32m     23\u001b[0m   \u001b[0;32mif\u001b[0m \u001b[0mbo\u001b[0m \u001b[0;34m==\u001b[0m \u001b[0;34m'-1'\u001b[0m\u001b[0;34m:\u001b[0m\u001b[0;34m\u001b[0m\u001b[0;34m\u001b[0m\u001b[0m\n\u001b[1;32m     24\u001b[0m     \u001b[0;32mbreak\u001b[0m\u001b[0;34m\u001b[0m\u001b[0;34m\u001b[0m\u001b[0m\n",
            "\u001b[0;32m/usr/local/lib/python3.7/dist-packages/ipykernel/kernelbase.py\u001b[0m in \u001b[0;36mraw_input\u001b[0;34m(self, prompt)\u001b[0m\n\u001b[1;32m    702\u001b[0m             \u001b[0mself\u001b[0m\u001b[0;34m.\u001b[0m\u001b[0m_parent_ident\u001b[0m\u001b[0;34m,\u001b[0m\u001b[0;34m\u001b[0m\u001b[0;34m\u001b[0m\u001b[0m\n\u001b[1;32m    703\u001b[0m             \u001b[0mself\u001b[0m\u001b[0;34m.\u001b[0m\u001b[0m_parent_header\u001b[0m\u001b[0;34m,\u001b[0m\u001b[0;34m\u001b[0m\u001b[0;34m\u001b[0m\u001b[0m\n\u001b[0;32m--> 704\u001b[0;31m             \u001b[0mpassword\u001b[0m\u001b[0;34m=\u001b[0m\u001b[0;32mFalse\u001b[0m\u001b[0;34m,\u001b[0m\u001b[0;34m\u001b[0m\u001b[0;34m\u001b[0m\u001b[0m\n\u001b[0m\u001b[1;32m    705\u001b[0m         )\n\u001b[1;32m    706\u001b[0m \u001b[0;34m\u001b[0m\u001b[0m\n",
            "\u001b[0;32m/usr/local/lib/python3.7/dist-packages/ipykernel/kernelbase.py\u001b[0m in \u001b[0;36m_input_request\u001b[0;34m(self, prompt, ident, parent, password)\u001b[0m\n\u001b[1;32m    732\u001b[0m             \u001b[0;32mexcept\u001b[0m \u001b[0mKeyboardInterrupt\u001b[0m\u001b[0;34m:\u001b[0m\u001b[0;34m\u001b[0m\u001b[0;34m\u001b[0m\u001b[0m\n\u001b[1;32m    733\u001b[0m                 \u001b[0;31m# re-raise KeyboardInterrupt, to truncate traceback\u001b[0m\u001b[0;34m\u001b[0m\u001b[0;34m\u001b[0m\u001b[0;34m\u001b[0m\u001b[0m\n\u001b[0;32m--> 734\u001b[0;31m                 \u001b[0;32mraise\u001b[0m \u001b[0mKeyboardInterrupt\u001b[0m\u001b[0;34m\u001b[0m\u001b[0;34m\u001b[0m\u001b[0m\n\u001b[0m\u001b[1;32m    735\u001b[0m             \u001b[0;32melse\u001b[0m\u001b[0;34m:\u001b[0m\u001b[0;34m\u001b[0m\u001b[0;34m\u001b[0m\u001b[0m\n\u001b[1;32m    736\u001b[0m                 \u001b[0;32mbreak\u001b[0m\u001b[0;34m\u001b[0m\u001b[0;34m\u001b[0m\u001b[0m\n",
            "\u001b[0;31mKeyboardInterrupt\u001b[0m: "
          ]
        }
      ],
      "source": [
        "# write your code here\n",
        "def dxo(bo):\n",
        "  if  bo[6] == bo[7] ==  bo[8] :\n",
        "    return bo[6]\n",
        "  elif bo[3] ==  bo[4] ==  bo[5] :\n",
        "    return bo[3]\n",
        "  elif bo[0] ==  bo[1] ==  bo[2] :\n",
        "    return bo[0]\n",
        "  elif bo[6] ==  bo[3] ==  bo[0] :\n",
        "    return bo[0]\n",
        "  elif bo[7] ==  bo[4] ==  bo[1] :\n",
        "    return bo[7]\n",
        "  elif bo[8] ==  bo[5] ==  bo[2] :\n",
        "    return bo[8]\n",
        "  elif bo[6] ==  bo[4] ==  bo[2] :\n",
        "    return bo[6]\n",
        "  elif bo[8] ==  bo[4] ==  bo[0] :\n",
        "    return bo[0]\n",
        "  else:\n",
        "    return False\n",
        "while True:\n",
        "  bo = str(input())\n",
        "  if bo == '-1':\n",
        "    break\n",
        "  #print(instr[8])\n",
        "  if len(bo) == 9:  \n",
        "    if dxo(bo)==False:\n",
        "      print('DRAW')\n",
        "    else:  \n",
        "      print(dxo(bo))\n",
        "  "
      ]
    }
  ],
  "metadata": {
    "kernelspec": {
      "display_name": "Python 3",
      "language": "python",
      "name": "python3"
    },
    "language_info": {
      "codemirror_mode": {
        "name": "ipython",
        "version": 3
      },
      "file_extension": ".py",
      "mimetype": "text/x-python",
      "name": "python",
      "nbconvert_exporter": "python",
      "pygments_lexer": "ipython3",
      "version": "3.8.10"
    },
    "colab": {
      "name": "11002final_exam林plus.ipynb",
      "provenance": [],
      "collapsed_sections": [
        "b02afaf5-dc81-4a0d-9df9-777b4e57f482",
        "esGQoDGeUjhi"
      ]
    }
  },
  "nbformat": 4,
  "nbformat_minor": 5
}